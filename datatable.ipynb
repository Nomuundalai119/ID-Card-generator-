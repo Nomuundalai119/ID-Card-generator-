{
 "cells": [
  {
   "cell_type": "code",
   "execution_count": 4,
   "metadata": {},
   "outputs": [],
   "source": [
    "import pandas as pd"
   ]
  },
  {
   "cell_type": "code",
   "execution_count": 5,
   "metadata": {},
   "outputs": [],
   "source": [
    "Version = \"english\""
   ]
  },
  {
   "cell_type": "code",
   "execution_count": 6,
   "metadata": {},
   "outputs": [],
   "source": [
    "df = pd.read_csv('datatables/'+ Version + \"data.csv\") \n",
    "df['Birth of Date']= pd.to_datetime(df['Birth of Date'])\n",
    "df[\"Birth of Date\"] = df[\"Birth of Date\"].dt.strftime('%m/%d/%Y')\n",
    "df['Surname'] = df['Surname'].str.upper() \n",
    "df['First Name'] = df['First Name'].str.upper()\n",
    "df[\"Picture\"] = df[\"Surname\"] + \".\" + df[\"First Name\"]+ \".\"+ \"png\"\n",
    "df['School ID number'] = df['School ID number'].apply(str)\n",
    "df.to_csv('datatables/'+'englishnewdata.csv',index = False, header=True)"
   ]
  },
  {
   "cell_type": "code",
   "execution_count": 7,
   "metadata": {},
   "outputs": [
    {
     "data": {
      "text/html": [
       "<div>\n",
       "<style scoped>\n",
       "    .dataframe tbody tr th:only-of-type {\n",
       "        vertical-align: middle;\n",
       "    }\n",
       "\n",
       "    .dataframe tbody tr th {\n",
       "        vertical-align: top;\n",
       "    }\n",
       "\n",
       "    .dataframe thead th {\n",
       "        text-align: right;\n",
       "    }\n",
       "</style>\n",
       "<table border=\"1\" class=\"dataframe\">\n",
       "  <thead>\n",
       "    <tr style=\"text-align: right;\">\n",
       "      <th></th>\n",
       "      <th>Surname</th>\n",
       "      <th>First Name</th>\n",
       "      <th>Birth of Date</th>\n",
       "      <th>School ID number</th>\n",
       "      <th>Registration Number</th>\n",
       "      <th>Picture</th>\n",
       "    </tr>\n",
       "  </thead>\n",
       "  <tbody>\n",
       "    <tr>\n",
       "      <th>0</th>\n",
       "      <td>TSERENNADMID</td>\n",
       "      <td>ANUDARI</td>\n",
       "      <td>09/27/1999</td>\n",
       "      <td>18102</td>\n",
       "      <td>UZ99092704</td>\n",
       "      <td>TSERENNADMID.ANUDARI.png</td>\n",
       "    </tr>\n",
       "    <tr>\n",
       "      <th>1</th>\n",
       "      <td>BATBAYAR</td>\n",
       "      <td>SARUULTUGS</td>\n",
       "      <td>01/24/2001</td>\n",
       "      <td>18101</td>\n",
       "      <td>USH01212459</td>\n",
       "      <td>BATBAYAR.SARUULTUGS.png</td>\n",
       "    </tr>\n",
       "    <tr>\n",
       "      <th>2</th>\n",
       "      <td>KHUNBISH</td>\n",
       "      <td>BAT-ORSHIKH</td>\n",
       "      <td>08/21/1983</td>\n",
       "      <td>18125</td>\n",
       "      <td>CHO83082171</td>\n",
       "      <td>KHUNBISH.BAT-ORSHIKH.png</td>\n",
       "    </tr>\n",
       "    <tr>\n",
       "      <th>3</th>\n",
       "      <td>ERDENEBAT</td>\n",
       "      <td>KHURTSBAYAR</td>\n",
       "      <td>09/21/2000</td>\n",
       "      <td>18116</td>\n",
       "      <td>UZ00292132</td>\n",
       "      <td>ERDENEBAT.KHURTSBAYAR.png</td>\n",
       "    </tr>\n",
       "    <tr>\n",
       "      <th>4</th>\n",
       "      <td>BAZARGARID</td>\n",
       "      <td>ARIUNZAYA</td>\n",
       "      <td>04/03/2001</td>\n",
       "      <td>18117</td>\n",
       "      <td>UKH01240327</td>\n",
       "      <td>BAZARGARID.ARIUNZAYA.png</td>\n",
       "    </tr>\n",
       "    <tr>\n",
       "      <th>5</th>\n",
       "      <td>GANZORIG</td>\n",
       "      <td>GANBOLD</td>\n",
       "      <td>04/11/2001</td>\n",
       "      <td>18107</td>\n",
       "      <td>UK01241118</td>\n",
       "      <td>GANZORIG.GANBOLD.png</td>\n",
       "    </tr>\n",
       "    <tr>\n",
       "      <th>6</th>\n",
       "      <td>TSOGBAT</td>\n",
       "      <td>ERKHBOLD</td>\n",
       "      <td>07/19/1989</td>\n",
       "      <td>19119</td>\n",
       "      <td>UZ89071918</td>\n",
       "      <td>TSOGBAT.ERKHBOLD.png</td>\n",
       "    </tr>\n",
       "    <tr>\n",
       "      <th>7</th>\n",
       "      <td>BAT-ERDENE</td>\n",
       "      <td>NOMUUNDALAI</td>\n",
       "      <td>05/16/2001</td>\n",
       "      <td>18105</td>\n",
       "      <td>UJ01251662</td>\n",
       "      <td>BAT-ERDENE.NOMUUNDALAI.png</td>\n",
       "    </tr>\n",
       "  </tbody>\n",
       "</table>\n",
       "</div>"
      ],
      "text/plain": [
       "        Surname   First Name Birth of Date School ID number  \\\n",
       "0  TSERENNADMID      ANUDARI    09/27/1999            18102   \n",
       "1      BATBAYAR   SARUULTUGS    01/24/2001            18101   \n",
       "2      KHUNBISH  BAT-ORSHIKH    08/21/1983            18125   \n",
       "3     ERDENEBAT  KHURTSBAYAR    09/21/2000            18116   \n",
       "4    BAZARGARID    ARIUNZAYA    04/03/2001            18117   \n",
       "5      GANZORIG      GANBOLD    04/11/2001            18107   \n",
       "6       TSOGBAT     ERKHBOLD    07/19/1989            19119   \n",
       "7    BAT-ERDENE  NOMUUNDALAI    05/16/2001            18105   \n",
       "\n",
       "  Registration Number                     Picture  \n",
       "0          UZ99092704    TSERENNADMID.ANUDARI.png  \n",
       "1         USH01212459     BATBAYAR.SARUULTUGS.png  \n",
       "2         CHO83082171    KHUNBISH.BAT-ORSHIKH.png  \n",
       "3          UZ00292132   ERDENEBAT.KHURTSBAYAR.png  \n",
       "4         UKH01240327    BAZARGARID.ARIUNZAYA.png  \n",
       "5          UK01241118        GANZORIG.GANBOLD.png  \n",
       "6          UZ89071918        TSOGBAT.ERKHBOLD.png  \n",
       "7          UJ01251662  BAT-ERDENE.NOMUUNDALAI.png  "
      ]
     },
     "execution_count": 7,
     "metadata": {},
     "output_type": "execute_result"
    }
   ],
   "source": [
    "df"
   ]
  },
  {
   "cell_type": "code",
   "execution_count": null,
   "metadata": {},
   "outputs": [],
   "source": []
  }
 ],
 "metadata": {
  "kernelspec": {
   "display_name": "Python 3",
   "language": "python",
   "name": "python3"
  },
  "language_info": {
   "codemirror_mode": {
    "name": "ipython",
    "version": 3
   },
   "file_extension": ".py",
   "mimetype": "text/x-python",
   "name": "python",
   "nbconvert_exporter": "python",
   "pygments_lexer": "ipython3",
   "version": "3.8.3"
  }
 },
 "nbformat": 4,
 "nbformat_minor": 4
}
