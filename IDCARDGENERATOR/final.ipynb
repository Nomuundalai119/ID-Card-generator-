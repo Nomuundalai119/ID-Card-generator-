{
 "cells": [
  {
   "cell_type": "code",
   "execution_count": 1,
   "metadata": {},
   "outputs": [],
   "source": [
    "import pandas as pd \n",
    "from PIL import Image, ImageDraw, ImageFont"
   ]
  },
  {
   "cell_type": "code",
   "execution_count": 2,
   "metadata": {},
   "outputs": [],
   "source": [
    "Version = \"english\""
   ]
  },
  {
   "cell_type": "code",
   "execution_count": 3,
   "metadata": {},
   "outputs": [],
   "source": [
    "df = pd.read_csv('datatables/'+ Version + \"newdata.csv\") "
   ]
  },
  {
   "cell_type": "code",
   "execution_count": 4,
   "metadata": {},
   "outputs": [
    {
     "name": "stdout",
     "output_type": "stream",
     "text": [
      "7\n"
     ]
    }
   ],
   "source": [
    "total = print(len(df)-1)"
   ]
  },
  {
   "cell_type": "code",
   "execution_count": 5,
   "metadata": {},
   "outputs": [],
   "source": [
    "person_who = int(5)"
   ]
  },
  {
   "cell_type": "code",
   "execution_count": 6,
   "metadata": {},
   "outputs": [],
   "source": [
    "def generateidcard(person_who): \n",
    "    Surname = df._get_value(person_who, 'Surname') \n",
    "    FirstName = df._get_value(person_who, 'First Name') \n",
    "    BirthofDate = df._get_value(person_who, 'Birth of Date') \n",
    "    IDNumber = str(df._get_value(person_who, 'School ID number'))\n",
    "    RD = df._get_value(person_who, 'Registration Number')\n",
    "    PictureName = df._get_value(person_who, 'Picture') \n",
    "\n",
    "\n",
    "    background = Image.open('mainbackground/' +Version + '.png')\n",
    "    d1 = ImageDraw.Draw(background)\n",
    "    font = ImageFont.truetype('fonts/'+\"Kollektif-Bold.ttf\", 40)\n",
    "    d1.text((349, 170), FirstName ,font=font, fill=(255, 255, 255))\n",
    "    d1.text((349, 250), Surname,font=font, fill=(255, 255, 255))\n",
    "    d1.text((349, 343), BirthofDate ,font=font, fill=(255, 255, 255))\n",
    "    d1.text((349, 430), RD,font=font, fill=(255, 255, 255))\n",
    "    d1.text((780, 542), IDNumber,font=font, fill=(16, 30, 63))\n",
    "\n",
    "    idim = Image.open('pictures/'+ PictureName)\n",
    "    idimsize = 249, 331\n",
    "    newidim = idim.resize((idimsize), Image.ANTIALIAS)\n",
    "\n",
    "    allin = background.copy() \n",
    "    newidimcopy = newidim.copy() \n",
    "\n",
    "    allin.paste(newidimcopy, (683, 160))\n",
    "    allin.save('results/' + IDNumber + 'eng'+'.png')\n",
    "    allin"
   ]
  },
  {
   "cell_type": "code",
   "execution_count": 7,
   "metadata": {
    "jupyter": {
     "source_hidden": true
    }
   },
   "outputs": [],
   "source": [
    "generateidcard(4)"
   ]
  },
  {
   "cell_type": "code",
   "execution_count": 8,
   "metadata": {},
   "outputs": [],
   "source": [
    "for i in range(0,7):\n",
    "    generateidcard(i)"
   ]
  },
  {
   "cell_type": "code",
   "execution_count": null,
   "metadata": {},
   "outputs": [],
   "source": []
  },
  {
   "cell_type": "code",
   "execution_count": null,
   "metadata": {},
   "outputs": [],
   "source": []
  }
 ],
 "metadata": {
  "kernelspec": {
   "display_name": "Python 3",
   "language": "python",
   "name": "python3"
  },
  "language_info": {
   "codemirror_mode": {
    "name": "ipython",
    "version": 3
   },
   "file_extension": ".py",
   "mimetype": "text/x-python",
   "name": "python",
   "nbconvert_exporter": "python",
   "pygments_lexer": "ipython3",
   "version": "3.8.3"
  }
 },
 "nbformat": 4,
 "nbformat_minor": 4
}
